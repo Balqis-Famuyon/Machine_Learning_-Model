{
  "nbformat": 4,
  "nbformat_minor": 0,
  "metadata": {
    "colab": {
      "name": "Balqis_Famuyon",
      "provenance": [],
      "collapsed_sections": [],
      "toc_visible": true,
      "include_colab_link": true
    },
    "kernelspec": {
      "display_name": "Python 3",
      "name": "python3"
    }
  },
  "cells": [
    {
      "cell_type": "markdown",
      "metadata": {
        "id": "view-in-github",
        "colab_type": "text"
      },
      "source": [
        "<a href=\"https://colab.research.google.com/github/Balqis-Famuyon/Machine_Learning_-Model/blob/main/Balqis_Famuyon.ipynb\" target=\"_parent\"><img src=\"https://colab.research.google.com/assets/colab-badge.svg\" alt=\"Open In Colab\"/></a>"
      ]
    },
    {
      "cell_type": "markdown",
      "metadata": {
        "id": "JyG45Qk3qQLS"
      },
      "source": [
        "This project shows a a macjine learning model is being built for the prediction of a flower specie"
      ]
    },
    {
      "cell_type": "markdown",
      "metadata": {
        "id": "KR921S_OQSHG"
      },
      "source": [
        "Importing libraries\n"
      ]
    },
    {
      "cell_type": "code",
      "metadata": {
        "cellView": "both",
        "id": "WUtu4316QSHL"
      },
      "source": [
        "import pandas as pd\n",
        "import numpy as np"
      ],
      "execution_count": 1,
      "outputs": []
    },
    {
      "cell_type": "markdown",
      "metadata": {
        "id": "Id6tDF1HQSHD"
      },
      "source": [
        "Exploring the data\n"
      ]
    },
    {
      "cell_type": "code",
      "metadata": {
        "cellView": "both",
        "id": "d-S-3nYLQSHb"
      },
      "source": [
        "from sklearn.datasets import load_iris\n",
        "iris_dataset = load_iris()"
      ],
      "execution_count": 3,
      "outputs": []
    },
    {
      "cell_type": "code",
      "metadata": {
        "cellView": "both",
        "colab": {
          "base_uri": "https://localhost:8080/"
        },
        "id": "zqGrv0blQSHj",
        "outputId": "31d0a4be-29cf-4f56-c0dd-faff4839ab85"
      },
      "source": [
        "print('keys of iris_dataset:\\n{}'.format(iris_dataset.keys()))"
      ],
      "execution_count": 4,
      "outputs": [
        {
          "output_type": "stream",
          "text": [
            "keys of iris_dataset:\n",
            "dict_keys(['data', 'target', 'target_names', 'DESCR', 'feature_names', 'filename'])\n"
          ],
          "name": "stdout"
        }
      ]
    },
    {
      "cell_type": "markdown",
      "metadata": {
        "id": "qM4myQGfQboQ"
      },
      "source": [
        "Checking for Data Description\n"
      ]
    },
    {
      "cell_type": "code",
      "metadata": {
        "cellView": "both",
        "colab": {
          "base_uri": "https://localhost:8080/"
        },
        "id": "odfM-_GxWbCy",
        "outputId": "57c68ab1-eb4f-414f-8ad0-2edb19c20276"
      },
      "source": [
        "print(iris_dataset['DESCR'][:193] + '\\n...')"
      ],
      "execution_count": 5,
      "outputs": [
        {
          "output_type": "stream",
          "text": [
            ".. _iris_dataset:\n",
            "\n",
            "Iris plants dataset\n",
            "--------------------\n",
            "\n",
            "**Data Set Characteristics:**\n",
            "\n",
            "    :Number of Instances: 150 (50 in each of three classes)\n",
            "    :Number of Attributes: 4 numeric, pre\n",
            "...\n"
          ],
          "name": "stdout"
        }
      ]
    },
    {
      "cell_type": "markdown",
      "metadata": {
        "id": "-WxnwxDsulpw"
      },
      "source": [
        "Exploring the Target Name Column"
      ]
    },
    {
      "cell_type": "code",
      "metadata": {
        "id": "b3mW7kTVuwau",
        "colab": {
          "base_uri": "https://localhost:8080/"
        },
        "outputId": "c8863b78-cca2-46a1-ef8d-cb19af12578f"
      },
      "source": [
        "print('Target names: {}'.format(iris_dataset['target_names']))"
      ],
      "execution_count": 6,
      "outputs": [
        {
          "output_type": "stream",
          "text": [
            "Target names: ['setosa' 'versicolor' 'virginica']\n"
          ],
          "name": "stdout"
        }
      ]
    },
    {
      "cell_type": "markdown",
      "metadata": {
        "id": "-oEfqSPtvrvy"
      },
      "source": [
        "Checking Data type"
      ]
    },
    {
      "cell_type": "code",
      "metadata": {
        "cellView": "both",
        "colab": {
          "base_uri": "https://localhost:8080/"
        },
        "id": "j6QRIfUHQSHq",
        "outputId": "1ff17bd8-f94d-4da4-8e12-f93cc17aaf61"
      },
      "source": [
        "print('Type of data:{}'.format(type(iris_dataset['data'])))"
      ],
      "execution_count": 7,
      "outputs": [
        {
          "output_type": "stream",
          "text": [
            "Type of data:<class 'numpy.ndarray'>\n"
          ],
          "name": "stdout"
        }
      ]
    },
    {
      "cell_type": "markdown",
      "metadata": {
        "id": "g6MfomFhQSHs"
      },
      "source": [
        "Viewing the descriptions of Measurement"
      ]
    },
    {
      "cell_type": "code",
      "metadata": {
        "cellView": "both",
        "colab": {
          "base_uri": "https://localhost:8080/"
        },
        "id": "SD0XnrVhQSHt",
        "outputId": "cb06d89d-decf-45a9-bf92-27f832b1959e"
      },
      "source": [
        "print('Feature names:{}'.format(iris_dataset['feature_names']))"
      ],
      "execution_count": 8,
      "outputs": [
        {
          "output_type": "stream",
          "text": [
            "Feature names:['sepal length (cm)', 'sepal width (cm)', 'petal length (cm)', 'petal width (cm)']\n"
          ],
          "name": "stdout"
        }
      ]
    },
    {
      "cell_type": "markdown",
      "metadata": {
        "id": "GVIVDgdaRjPQ"
      },
      "source": [
        "Checking for Data type and size"
      ]
    },
    {
      "cell_type": "code",
      "metadata": {
        "id": "AmiXhb3GxwvW",
        "colab": {
          "base_uri": "https://localhost:8080/"
        },
        "outputId": "6d8d990b-4c4c-4395-ff8a-d16d7d818beb"
      },
      "source": [
        "print('Type of data:{}'.format(type(iris_dataset['data'])))\r\n",
        "print('Shape of data:{}'.format(iris_dataset['data'].shape))"
      ],
      "execution_count": 9,
      "outputs": [
        {
          "output_type": "stream",
          "text": [
            "Type of data:<class 'numpy.ndarray'>\n",
            "Shape of data:(150, 4)\n"
          ],
          "name": "stdout"
        }
      ]
    },
    {
      "cell_type": "code",
      "metadata": {
        "cellView": "both",
        "colab": {
          "base_uri": "https://localhost:8080/"
        },
        "id": "CrJf1PEmQSHx",
        "outputId": "b086e5d0-e305-4640-ee6a-f2cad1a664db"
      },
      "source": [
        "print('First five columns:\\n{}'.format(iris_dataset['data'][:5]))"
      ],
      "execution_count": 10,
      "outputs": [
        {
          "output_type": "stream",
          "text": [
            "First five columns:\n",
            "[[5.1 3.5 1.4 0.2]\n",
            " [4.9 3.  1.4 0.2]\n",
            " [4.7 3.2 1.3 0.2]\n",
            " [4.6 3.1 1.5 0.2]\n",
            " [5.  3.6 1.4 0.2]]\n"
          ],
          "name": "stdout"
        }
      ]
    },
    {
      "cell_type": "code",
      "metadata": {
        "colab": {
          "base_uri": "https://localhost:8080/"
        },
        "id": "JVXnTqyE9RET",
        "outputId": "1e5c1c4d-b095-4fee-add4-18e2eb448256"
      },
      "source": [
        "print('Type of target:{}'.format(type(iris_dataset['target'])))"
      ],
      "execution_count": 11,
      "outputs": [
        {
          "output_type": "stream",
          "text": [
            "Type of target:<class 'numpy.ndarray'>\n"
          ],
          "name": "stdout"
        }
      ]
    },
    {
      "cell_type": "code",
      "metadata": {
        "colab": {
          "base_uri": "https://localhost:8080/"
        },
        "id": "tSQpToFs8-84",
        "outputId": "7b1e552d-bcbb-4340-c181-03d13f290c5f"
      },
      "source": [
        "print('Shape of target:{}'.format(iris_dataset['target'].shape))"
      ],
      "execution_count": 13,
      "outputs": [
        {
          "output_type": "stream",
          "text": [
            "Shape of target:(150,)\n"
          ],
          "name": "stdout"
        }
      ]
    },
    {
      "cell_type": "code",
      "metadata": {
        "colab": {
          "base_uri": "https://localhost:8080/"
        },
        "id": "qw7CXnCD-rol",
        "outputId": "24fcc856-6812-496c-f596-33930ffad620"
      },
      "source": [
        "print('Target:\\n{}:'.format(iris_dataset['target']))"
      ],
      "execution_count": 14,
      "outputs": [
        {
          "output_type": "stream",
          "text": [
            "Target:\n",
            "[0 0 0 0 0 0 0 0 0 0 0 0 0 0 0 0 0 0 0 0 0 0 0 0 0 0 0 0 0 0 0 0 0 0 0 0 0\n",
            " 0 0 0 0 0 0 0 0 0 0 0 0 0 1 1 1 1 1 1 1 1 1 1 1 1 1 1 1 1 1 1 1 1 1 1 1 1\n",
            " 1 1 1 1 1 1 1 1 1 1 1 1 1 1 1 1 1 1 1 1 1 1 1 1 1 1 2 2 2 2 2 2 2 2 2 2 2\n",
            " 2 2 2 2 2 2 2 2 2 2 2 2 2 2 2 2 2 2 2 2 2 2 2 2 2 2 2 2 2 2 2 2 2 2 2 2 2\n",
            " 2 2]:\n"
          ],
          "name": "stdout"
        }
      ]
    },
    {
      "cell_type": "markdown",
      "metadata": {
        "id": "cqMzW1yg_Tnl"
      },
      "source": [
        "The target numbers displayed above depicts the specie of the flower. 0 represents setosa , 1 represents ersicolor ,2 represents virginica."
      ]
    },
    {
      "cell_type": "markdown",
      "metadata": {
        "id": "-4qKA-ll_5Zy"
      },
      "source": [
        "##Training and Testing Data\r\n",
        "This project aims to build a machine learning model that can predict the species of iris for a new set of measurements.\r\n",
        "The training data is going to be different feom the testing data.\r\n",
        "\r\n",
        "> Indented block\r\n",
        "\r\n"
      ]
    },
    {
      "cell_type": "code",
      "metadata": {
        "id": "2UKI-zNU_3pD"
      },
      "source": [
        "import sklearn\r\n",
        "from sklearn.model_selection import train_test_split\r\n",
        "X_train,X_test,y_train,y_test = train_test_split(\r\n",
        "    iris_dataset['data'], iris_dataset['target'], random_state=0)"
      ],
      "execution_count": 15,
      "outputs": []
    },
    {
      "cell_type": "markdown",
      "metadata": {
        "id": "Jy74oa11GTAk"
      },
      "source": [
        "The output of the code above will make 75% of the data set the training data and the remaining 25% as the testing data"
      ]
    },
    {
      "cell_type": "code",
      "metadata": {
        "colab": {
          "base_uri": "https://localhost:8080/"
        },
        "id": "5MKrzXB6xYxW",
        "outputId": "dac69eea-5061-4f39-cb6f-074a1fb1e1a1"
      },
      "source": [
        "print('X_train shape: {}'.format(X_train.shape))\r\n",
        "print('y_train shape: {}'.format(y_train.shape))\r\n",
        "print('X_test shape: {}' .format(X_test.shape))\r\n",
        "print('y_test shape: {}'.format(y_test.shape))"
      ],
      "execution_count": 17,
      "outputs": [
        {
          "output_type": "stream",
          "text": [
            "X_train shape: (112, 4)\n",
            "y_train shape: (112,)\n",
            "X_test shape: (38, 4)\n",
            "y_test shape: (38,)\n"
          ],
          "name": "stdout"
        }
      ]
    },
    {
      "cell_type": "markdown",
      "metadata": {
        "id": "CvbL9G1M7TM8"
      },
      "source": [
        "Building the Machine Learning Model"
      ]
    },
    {
      "cell_type": "code",
      "metadata": {
        "id": "-TIrWb1Z7fIQ"
      },
      "source": [
        "from sklearn.neighbors import KNeighborsClassifier\r\n",
        "Knn = KNeighborsClassifier(n_neighbors=1)"
      ],
      "execution_count": 29,
      "outputs": []
    },
    {
      "cell_type": "markdown",
      "metadata": {
        "id": "WUVrWyQh9D_k"
      },
      "source": [
        "\"Knn\" is the name of the model that is bring built , it hols the algorithm of this project. the k nearest neighbor for this model is 1 (K=1)."
      ]
    },
    {
      "cell_type": "code",
      "metadata": {
        "colab": {
          "base_uri": "https://localhost:8080/"
        },
        "id": "rg-WPniP9DdO",
        "outputId": "d54ccba9-7ac0-4dc3-f811-08e347ce73cb"
      },
      "source": [
        "Knn.fit(X_train , y_train)"
      ],
      "execution_count": 30,
      "outputs": [
        {
          "output_type": "execute_result",
          "data": {
            "text/plain": [
              "KNeighborsClassifier(algorithm='auto', leaf_size=30, metric='minkowski',\n",
              "                     metric_params=None, n_jobs=None, n_neighbors=1, p=2,\n",
              "                     weights='uniform')"
            ]
          },
          "metadata": {
            "tags": []
          },
          "execution_count": 30
        }
      ]
    },
    {
      "cell_type": "markdown",
      "metadata": {
        "id": "lcAz90rz-Rb7"
      },
      "source": [
        "Making Predictions\r\n",
        "To Predict a specie of any iris plant that i come across, i would use the feature properties of the plant- sepal length(5cm), sepal width\r\n",
        "(2.9cm) , petal length(1cm), petal width(0.2cm).\r\n",
        "to display the feature data in a Numpyarray, the shape has to be calculated- number of samples multiplied by the number of features; the number of samples in this scenario is 1. "
      ]
    },
    {
      "cell_type": "code",
      "metadata": {
        "colab": {
          "base_uri": "https://localhost:8080/"
        },
        "id": "m6gNng4E-QjX",
        "outputId": "80a3aba4-8468-4b09-8a89-72475fdf5544"
      },
      "source": [
        "X_new = np.array([[5 , 2.9 ,1 , 0.2]])\r\n",
        "print('X_new.shape: {}'.format(X_new.shape))"
      ],
      "execution_count": 31,
      "outputs": [
        {
          "output_type": "stream",
          "text": [
            "X_new.shape: (1, 4)\n"
          ],
          "name": "stdout"
        }
      ]
    },
    {
      "cell_type": "code",
      "metadata": {
        "colab": {
          "base_uri": "https://localhost:8080/"
        },
        "id": "bvgrFAZgCCxB",
        "outputId": "156469ad-2e58-4cca-e10b-c5d8b24074bb"
      },
      "source": [
        "prediction = Knn.predict(X_new)\r\n",
        "\r\n",
        "print('Prediction: {}'. format(prediction))\r\n",
        "print('Predicted target name: {}'.format(\r\n",
        "iris_dataset['target_names'][prediction]))"
      ],
      "execution_count": 37,
      "outputs": [
        {
          "output_type": "stream",
          "text": [
            "Prediction: [0]\n",
            "Predicted target name: ['setosa']\n"
          ],
          "name": "stdout"
        }
      ]
    },
    {
      "cell_type": "markdown",
      "metadata": {
        "id": "SmYksmjAOmEj"
      },
      "source": [
        "Evaluating the Model"
      ]
    },
    {
      "cell_type": "code",
      "metadata": {
        "colab": {
          "base_uri": "https://localhost:8080/"
        },
        "id": "g77GRiMvOtS7",
        "outputId": "23b05fc9-a959-4b56-bd1f-4e6c61f8e838"
      },
      "source": [
        "y_pred = Knn.predict(X_test)\r\n",
        "print('Test set Prediction :\\n {}'.format(y_pred))"
      ],
      "execution_count": 39,
      "outputs": [
        {
          "output_type": "stream",
          "text": [
            "Test set Prediction :\n",
            " [2 1 0 2 0 2 0 1 1 1 2 1 1 1 1 0 1 1 0 0 2 1 0 0 2 0 0 1 1 0 2 1 0 2 2 1 0\n",
            " 2]\n"
          ],
          "name": "stdout"
        }
      ]
    },
    {
      "cell_type": "code",
      "metadata": {
        "colab": {
          "base_uri": "https://localhost:8080/"
        },
        "id": "hlrpxAzgQNo_",
        "outputId": "2550f35d-de67-4831-bfe4-f1b9f7632e1f"
      },
      "source": [
        "print('Test set score: {}'.format(np.mean(y_pred==y_test)))"
      ],
      "execution_count": 40,
      "outputs": [
        {
          "output_type": "stream",
          "text": [
            "Test set score: 0.9736842105263158\n"
          ],
          "name": "stdout"
        }
      ]
    },
    {
      "cell_type": "markdown",
      "metadata": {
        "id": "ON86SOQQP79o"
      },
      "source": [
        "The Test score shown above depicts a 97% accuracy of the machone learning model that was built."
      ]
    },
    {
      "cell_type": "code",
      "metadata": {
        "id": "haifrEWwTaSF"
      },
      "source": [
        ""
      ],
      "execution_count": null,
      "outputs": []
    }
  ]
}